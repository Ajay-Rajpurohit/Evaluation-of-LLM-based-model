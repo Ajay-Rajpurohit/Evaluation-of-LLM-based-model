{
  "nbformat": 4,
  "nbformat_minor": 0,
  "metadata": {
    "colab": {
      "provenance": []
    },
    "kernelspec": {
      "name": "python3",
      "display_name": "Python 3"
    },
    "language_info": {
      "name": "python"
    }
  },
  "cells": [
    {
      "cell_type": "code",
      "execution_count": null,
      "metadata": {
        "colab": {
          "base_uri": "https://localhost:8080/"
        },
        "id": "pC0doQxvOZdp",
        "outputId": "aaadaed4-8990-40ab-9cc5-6971b19ea2e3"
      },
      "outputs": [
        {
          "output_type": "stream",
          "name": "stdout",
          "text": [
            "Requirement already satisfied: pandas in /usr/local/lib/python3.10/dist-packages (2.1.4)\n",
            "Collecting rouge\n",
            "  Downloading rouge-1.0.1-py3-none-any.whl.metadata (4.1 kB)\n",
            "Requirement already satisfied: numpy<2,>=1.22.4 in /usr/local/lib/python3.10/dist-packages (from pandas) (1.26.4)\n",
            "Requirement already satisfied: python-dateutil>=2.8.2 in /usr/local/lib/python3.10/dist-packages (from pandas) (2.8.2)\n",
            "Requirement already satisfied: pytz>=2020.1 in /usr/local/lib/python3.10/dist-packages (from pandas) (2024.1)\n",
            "Requirement already satisfied: tzdata>=2022.1 in /usr/local/lib/python3.10/dist-packages (from pandas) (2024.1)\n",
            "Requirement already satisfied: six in /usr/local/lib/python3.10/dist-packages (from rouge) (1.16.0)\n",
            "Downloading rouge-1.0.1-py3-none-any.whl (13 kB)\n",
            "Installing collected packages: rouge\n",
            "Successfully installed rouge-1.0.1\n"
          ]
        }
      ],
      "source": [
        "pip install pandas rouge"
      ]
    },
    {
      "cell_type": "code",
      "source": [
        "import pandas as pd\n",
        "from rouge import Rouge"
      ],
      "metadata": {
        "id": "ugaEn3BIOrPk"
      },
      "execution_count": null,
      "outputs": []
    },
    {
      "cell_type": "code",
      "source": [
        "file_path='/content/sampled_dataECBGoldSilver.csv'\n",
        "data=pd.read_csv(file_path)\n",
        "# Extract the columns for evaluation\n",
        "generated_sentences = data['amalREC_Test_Sentence'].astype(str).tolist()\n",
        "reference_sentences = data['Gold_Sentence'].astype(str).tolist()\n",
        "\n",
        "# Initialize ROUGE scorer\n",
        "rouge = Rouge()\n",
        "\n",
        "# Compute ROUGE scores\n",
        "rouge_scores = rouge.get_scores(generated_sentences, reference_sentences, avg=True)\n",
        "\n",
        "# Display the scores\n",
        "print(f\"ROUGE Scores: {rouge_scores}\")"
      ],
      "metadata": {
        "colab": {
          "base_uri": "https://localhost:8080/"
        },
        "id": "SCdsnuRIOzDX",
        "outputId": "1faccbeb-447f-47b7-f9ee-0639edd5b3a5"
      },
      "execution_count": null,
      "outputs": [
        {
          "output_type": "stream",
          "name": "stdout",
          "text": [
            "ROUGE Scores: {'rouge-1': {'r': 0.4567486619431433, 'p': 0.292450443988004, 'f': 0.35023801716275865}, 'rouge-2': {'r': 0.17909452734503084, 'p': 0.1093819203745216, 'f': 0.13293118321732256}, 'rouge-l': {'r': 0.35510008084164413, 'p': 0.22674260743175664, 'f': 0.2717733448196224}}\n"
          ]
        }
      ]
    },
    {
      "cell_type": "code",
      "source": [],
      "metadata": {
        "id": "CO69VU-XPKlv"
      },
      "execution_count": null,
      "outputs": []
    }
  ]
}