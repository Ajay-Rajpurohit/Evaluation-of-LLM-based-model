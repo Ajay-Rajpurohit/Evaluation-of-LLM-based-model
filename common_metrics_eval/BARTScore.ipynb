{
  "nbformat": 4,
  "nbformat_minor": 0,
  "metadata": {
    "colab": {
      "provenance": []
    },
    "kernelspec": {
      "name": "python3",
      "display_name": "Python 3"
    },
    "language_info": {
      "name": "python"
    }
  },
  "cells": [
    {
      "cell_type": "code",
      "execution_count": 2,
      "metadata": {
        "colab": {
          "base_uri": "https://localhost:8080/"
        },
        "id": "LhTnMn9Vg8_H",
        "outputId": "87cbd556-7ce4-4781-b0b5-7fbbeda92962"
      },
      "outputs": [
        {
          "output_type": "execute_result",
          "data": {
            "text/plain": [
              "(-2.5820681177193996,\n",
              "                                amalREC_Test_Sentence  \\\n",
              " 0  Renowned for his leadership prowess, the Grand...   \n",
              " 1  The renowned Chislehurst and Sidcup Grammar Sc...   \n",
              " 2  Nestled amidst the picturesque landscapes of t...   \n",
              " 3  As the rector of Kremenchuk Mykhailo Ostrohrad...   \n",
              " 4  Kraai River, originating in the rolling hills ...   \n",
              " \n",
              "                                        Gold_Sentence  BARTScore  \n",
              " 0  The distinguished group, Grande Armée had the ...  -2.967072  \n",
              " 1  Chislehurst and Sidcup Grammar School a promin...  -2.833492  \n",
              " 2  Réal can be found within the department of Pyr...  -2.701323  \n",
              " 3  Kremenchuk Mykhailo Ostrohradskyi National Uni...  -2.294199  \n",
              " 4  Kraai River is an important source of water fo...  -3.193003  )"
            ]
          },
          "metadata": {},
          "execution_count": 2
        }
      ],
      "source": [
        "import pandas as pd\n",
        "import torch\n",
        "from transformers import BartTokenizer, BartForConditionalGeneration\n",
        "\n",
        "# Load the pre-trained BART model and tokenizer\n",
        "model_name = 'facebook/bart-large-cnn'\n",
        "tokenizer = BartTokenizer.from_pretrained(model_name)\n",
        "model = BartForConditionalGeneration.from_pretrained(model_name)\n",
        "\n",
        "# Load the dataset\n",
        "file_path = '/content/sampled_dataECBGoldSilver.csv'\n",
        "data = pd.read_csv(file_path)\n",
        "\n",
        "def compute_bartscore(source_texts, generated_texts):\n",
        "    bart_scores = []\n",
        "\n",
        "    for src, gen in zip(source_texts, generated_texts):\n",
        "        # Check if src or gen are NaN and skip if so\n",
        "        if pd.isna(src) or pd.isna(gen):\n",
        "            bart_scores.append(None) # Append None for NaN values\n",
        "            continue\n",
        "\n",
        "        # Encode the source and generated texts\n",
        "        input_ids = tokenizer.encode(src, return_tensors='pt')\n",
        "        output_ids = tokenizer.encode(gen, return_tensors='pt')\n",
        "\n",
        "        # Calculate the log likelihood of the generated text given the source text\n",
        "        with torch.no_grad():\n",
        "            output = model(input_ids=input_ids, labels=output_ids)\n",
        "            loss = output.loss.item()\n",
        "            # BARTScore is negative log likelihood\n",
        "            bart_score = -loss\n",
        "            bart_scores.append(bart_score)\n",
        "\n",
        "    return bart_scores\n",
        "\n",
        "# Prepare data: Gold_Sentence as reference, sampled_dataECBGoldSilver as generated text\n",
        "source_texts = data['Gold_Sentence'].tolist()\n",
        "generated_texts = data['amalREC_Test_Sentence'].tolist()\n",
        "\n",
        "# Compute BARTScore for the dataset\n",
        "bart_scores = compute_bartscore(source_texts, generated_texts)\n",
        "\n",
        "# Add BARTScores to the dataframe\n",
        "data['BARTScore'] = bart_scores\n",
        "\n",
        "# Calculate the average BARTScore, ignoring NaN values\n",
        "average_bartscore = data['BARTScore'].mean(skipna=True)\n",
        "\n",
        "average_bartscore, data[['amalREC_Test_Sentence', 'Gold_Sentence', 'BARTScore']].head()"
      ]
    },
    {
      "cell_type": "code",
      "source": [],
      "metadata": {
        "id": "PPvqRRdJhIL7"
      },
      "execution_count": null,
      "outputs": []
    }
  ]
}