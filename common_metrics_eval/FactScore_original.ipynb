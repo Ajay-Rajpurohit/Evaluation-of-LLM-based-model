{
  "nbformat": 4,
  "nbformat_minor": 0,
  "metadata": {
    "colab": {
      "provenance": []
    },
    "kernelspec": {
      "name": "python3",
      "display_name": "Python 3"
    },
    "language_info": {
      "name": "python"
    }
  },
  "cells": [
    {
      "cell_type": "code",
      "execution_count": null,
      "metadata": {
        "id": "tbU3ce7Y4S1N"
      },
      "outputs": [],
      "source": [
        "!pip install spacy\n",
        "!python -m spacy download en_core_web_sm\n"
      ]
    },
    {
      "cell_type": "code",
      "source": [
        "import spacy\n",
        "import pandas as pd\n",
        "\n",
        "# Load the small English model for Spacy\n",
        "nlp = spacy.load(\"en_core_web_sm\")\n",
        "\n",
        "# Load the dataset\n",
        "file_path = \"/content/sampled_dataECBGoldSilver.csv\"  # Path for Google Colab\n",
        "dataset = pd.read_csv(file_path)\n",
        "\n",
        "# Function to extract entities from a sentence\n",
        "def extract_entities(text):\n",
        "    if not isinstance(text, str):  # Handle non-string values\n",
        "        return []\n",
        "    doc = nlp(text)\n",
        "    entities = [(ent.text, ent.label_) for ent in doc.ents]\n",
        "    return entities\n",
        "\n",
        "# Function to compute FactScore\n",
        "def compute_factscore(reference, generated):\n",
        "    ref_entities = extract_entities(reference)\n",
        "    gen_entities = extract_entities(generated)\n",
        "\n",
        "    # Convert to sets for comparison\n",
        "    ref_set = set(ref_entities)\n",
        "    gen_set = set(gen_entities)\n",
        "\n",
        "    # Intersection over reference entities\n",
        "    matches = ref_set.intersection(gen_set)\n",
        "    fact_score = len(matches) / len(ref_set) if ref_set else 0\n",
        "\n",
        "    return fact_score\n",
        "\n",
        "# Fill NaN values with an empty string and compute FactScores\n",
        "total_factscore = 0\n",
        "valid_pairs = 0\n",
        "\n",
        "for index, row in dataset.iterrows():\n",
        "    reference_sentence = row[\"Silver_Sentence\"] if isinstance(row[\"Silver_Sentence\"], str) else \"\"\n",
        "    generated_sentence = row[\"amalREC_Test_Sentence\"] if isinstance(row[\"amalREC_Test_Sentence\"], str) else \"\"\n",
        "\n",
        "    if reference_sentence and generated_sentence:\n",
        "        fact_score = compute_factscore(reference_sentence, generated_sentence)\n",
        "        total_factscore += fact_score\n",
        "        valid_pairs += 1\n",
        "\n",
        "# Calculate the average FactScore\n",
        "average_factscore = total_factscore / valid_pairs if valid_pairs else 0\n",
        "\n",
        "# Save the average score to a file\n",
        "output_path = \"/content/average_factscore.txt\"\n",
        "with open(output_path, \"w\") as file:\n",
        "    file.write(f\"Average FactScore: {average_factscore:.4f}\\n\")\n",
        "\n",
        "print(f\"Average FactScore: {average_factscore:.4f}\")\n",
        "print(f\"Average FactScore saved to {output_path}\")\n"
      ],
      "metadata": {
        "colab": {
          "base_uri": "https://localhost:8080/"
        },
        "id": "GlJkk-lz4Y2Y",
        "outputId": "8073f90c-cbc9-444c-8614-b0253a5c7c4f"
      },
      "execution_count": 4,
      "outputs": [
        {
          "output_type": "stream",
          "name": "stdout",
          "text": [
            "Average FactScore: 0.5124\n",
            "Average FactScore saved to /content/average_factscore.txt\n"
          ]
        }
      ]
    },
    {
      "cell_type": "code",
      "source": [],
      "metadata": {
        "id": "ONi4JDJGAQag"
      },
      "execution_count": null,
      "outputs": []
    }
  ]
}